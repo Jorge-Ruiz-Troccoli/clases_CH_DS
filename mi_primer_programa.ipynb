{
  "nbformat": 4,
  "nbformat_minor": 0,
  "metadata": {
    "colab": {
      "provenance": [],
      "authorship_tag": "ABX9TyNXUnSWUWuRq3Zy1TqtcOBx",
      "include_colab_link": true
    },
    "kernelspec": {
      "name": "python3",
      "display_name": "Python 3"
    },
    "language_info": {
      "name": "python"
    }
  },
  "cells": [
    {
      "cell_type": "markdown",
      "metadata": {
        "id": "view-in-github",
        "colab_type": "text"
      },
      "source": [
        "<a href=\"https://colab.research.google.com/github/Jorge-Ruiz-Troccoli/clases_CH_DS/blob/main/mi_primer_programa.ipynb\" target=\"_parent\"><img src=\"https://colab.research.google.com/assets/colab-badge.svg\" alt=\"Open In Colab\"/></a>"
      ]
    },
    {
      "cell_type": "code",
      "execution_count": null,
      "metadata": {
        "colab": {
          "base_uri": "https://localhost:8080/"
        },
        "id": "tJ5xD0-GPh4g",
        "outputId": "ad13e77a-c671-4bcc-c33d-df90686c053c"
      },
      "outputs": [
        {
          "output_type": "stream",
          "name": "stdout",
          "text": [
            "mi primer hola mundo\n"
          ]
        }
      ],
      "source": [
        "print(\"mi primer hola mundo\")"
      ]
    },
    {
      "cell_type": "code",
      "source": [
        "tupla=  (2,4,5)"
      ],
      "metadata": {
        "id": "jNQylNbeQg8C"
      },
      "execution_count": 4,
      "outputs": []
    }
  ]
}