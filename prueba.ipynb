{
  "nbformat": 4,
  "nbformat_minor": 0,
  "metadata": {
    "colab": {
      "provenance": [],
      "authorship_tag": "ABX9TyMN0rG5oU4vPse1tpd5ZiNV",
      "include_colab_link": true
    },
    "kernelspec": {
      "name": "python3",
      "display_name": "Python 3"
    },
    "language_info": {
      "name": "python"
    }
  },
  "cells": [
    {
      "cell_type": "markdown",
      "metadata": {
        "id": "view-in-github",
        "colab_type": "text"
      },
      "source": [
        "<a href=\"https://colab.research.google.com/github/Jorge-Ruiz-Troccoli/clases_CH_DS/blob/main/prueba.ipynb\" target=\"_parent\"><img src=\"https://colab.research.google.com/assets/colab-badge.svg\" alt=\"Open In Colab\"/></a>"
      ]
    },
    {
      "cell_type": "code",
      "execution_count": null,
      "metadata": {
        "colab": {
          "base_uri": "https://localhost:8080/"
        },
        "id": "eOKwoUWOifWv",
        "outputId": "b101226a-3f0c-4be4-f5d0-3cc6bb7edd19"
      },
      "outputs": [
        {
          "output_type": "stream",
          "name": "stdout",
          "text": [
            "hola es mi primera versión\n"
          ]
        }
      ],
      "source": [
        "print(\"hola es mi primera versión\")"
      ]
    },
    {
      "cell_type": "code",
      "source": [
        "print(\"ahora quedo mejor\")"
      ],
      "metadata": {
        "id": "-ePY9h8EjaEO",
        "outputId": "b0298163-cc42-4d36-9028-1da5b33b782a",
        "colab": {
          "base_uri": "https://localhost:8080/"
        }
      },
      "execution_count": 2,
      "outputs": [
        {
          "output_type": "stream",
          "name": "stdout",
          "text": [
            "ahora quedo mejor\n"
          ]
        }
      ]
    }
  ]
}