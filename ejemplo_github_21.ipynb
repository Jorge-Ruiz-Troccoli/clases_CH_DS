{
  "nbformat": 4,
  "nbformat_minor": 0,
  "metadata": {
    "colab": {
      "provenance": [],
      "authorship_tag": "ABX9TyNmCMI5BobkberpTJ6ySBIj",
      "include_colab_link": true
    },
    "kernelspec": {
      "name": "python3",
      "display_name": "Python 3"
    },
    "language_info": {
      "name": "python"
    }
  },
  "cells": [
    {
      "cell_type": "markdown",
      "metadata": {
        "id": "view-in-github",
        "colab_type": "text"
      },
      "source": [
        "<a href=\"https://colab.research.google.com/github/Jorge-Ruiz-Troccoli/clases_CH_DS/blob/main/ejemplo_github_21.ipynb\" target=\"_parent\"><img src=\"https://colab.research.google.com/assets/colab-badge.svg\" alt=\"Open In Colab\"/></a>"
      ]
    },
    {
      "cell_type": "code",
      "execution_count": null,
      "metadata": {
        "colab": {
          "base_uri": "https://localhost:8080/"
        },
        "id": "uExyROrEB-P4",
        "outputId": "2917fd3c-7b3c-40ed-d3bb-0c9dbe5b59a5"
      },
      "outputs": [
        {
          "output_type": "stream",
          "name": "stdout",
          "text": [
            "ejemplo clase 21 de enero\n"
          ]
        }
      ],
      "source": [
        "print(\"ejemplo clase 21 de enero\")"
      ]
    },
    {
      "cell_type": "code",
      "source": [
        "print(\"este es el mejor camino\")"
      ],
      "metadata": {
        "id": "C77eoxCCDL8H"
      },
      "execution_count": null,
      "outputs": []
    }
  ]
}